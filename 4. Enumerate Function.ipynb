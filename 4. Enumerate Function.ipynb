{
 "cells": [
  {
   "cell_type": "markdown",
   "id": "511879ac",
   "metadata": {},
   "source": [
    "Enumerate function helps us to access the index number of the elements"
   ]
  },
  {
   "cell_type": "code",
   "execution_count": 1,
   "id": "55cc99d3",
   "metadata": {},
   "outputs": [
    {
     "name": "stdout",
     "output_type": "stream",
     "text": [
      "0 a\n",
      "1 b\n",
      "2 c\n",
      "3 d\n",
      "4 e\n",
      "5 f\n",
      "6 g\n"
     ]
    }
   ],
   "source": [
    "items = ['a','b','c','d','e','f','g']\n",
    "\n",
    "for i,j in enumerate(items):\n",
    "    print(i,j)"
   ]
  }
 ],
 "metadata": {
  "kernelspec": {
   "display_name": "Python 3",
   "language": "python",
   "name": "python3"
  },
  "language_info": {
   "codemirror_mode": {
    "name": "ipython",
    "version": 3
   },
   "file_extension": ".py",
   "mimetype": "text/x-python",
   "name": "python",
   "nbconvert_exporter": "python",
   "pygments_lexer": "ipython3",
   "version": "3.9.5"
  },
  "toc": {
   "base_numbering": 1,
   "nav_menu": {},
   "number_sections": true,
   "sideBar": true,
   "skip_h1_title": false,
   "title_cell": "Table of Contents",
   "title_sidebar": "Contents",
   "toc_cell": false,
   "toc_position": {},
   "toc_section_display": true,
   "toc_window_display": false
  }
 },
 "nbformat": 4,
 "nbformat_minor": 5
}
