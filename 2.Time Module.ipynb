{
 "cells": [
  {
   "cell_type": "markdown",
   "id": "6f54ea08",
   "metadata": {},
   "source": [
    "# time.time()"
   ]
  },
  {
   "cell_type": "code",
   "execution_count": 5,
   "id": "626cc084",
   "metadata": {},
   "outputs": [],
   "source": [
    "import time\n",
    "initial = time.time()"
   ]
  },
  {
   "cell_type": "code",
   "execution_count": 13,
   "id": "28621eab",
   "metadata": {},
   "outputs": [
    {
     "name": "stdout",
     "output_type": "stream",
     "text": [
      "This is Bhavik\n",
      "This is Bhavik\n",
      "This is Bhavik\n",
      "This is Bhavik\n",
      "This is Bhavik\n",
      "This is Bhavik\n",
      "This is Bhavik\n",
      "This is Bhavik\n",
      "This is Bhavik\n",
      "This is Bhavik\n",
      "Time taken for run this function: 310.06116342544556 second\n"
     ]
    }
   ],
   "source": [
    "for i in range(10):\n",
    "    print('This is Bhavik')\n",
    "print('Time taken for run this function:',time.time()-initial,'second')"
   ]
  },
  {
   "cell_type": "markdown",
   "id": "30dfab39",
   "metadata": {},
   "source": [
    "# time.asctime()"
   ]
  },
  {
   "cell_type": "code",
   "execution_count": 17,
   "id": "86b615da",
   "metadata": {},
   "outputs": [
    {
     "data": {
      "text/plain": [
       "'Sat Jul 17 14:47:31 2021'"
      ]
     },
     "execution_count": 17,
     "metadata": {},
     "output_type": "execute_result"
    }
   ],
   "source": [
    "#Extracting local time or current time\n",
    "local_time = time.asctime(time.localtime(time.time()))\n",
    "local_time"
   ]
  },
  {
   "cell_type": "markdown",
   "id": "de704220",
   "metadata": {},
   "source": [
    "# time.sleep()"
   ]
  },
  {
   "cell_type": "code",
   "execution_count": 18,
   "id": "e6c095d8",
   "metadata": {},
   "outputs": [
    {
     "name": "stdout",
     "output_type": "stream",
     "text": [
      "Bhavik is learning data science\n",
      "Bhavik is learning data science\n",
      "Bhavik is learning data science\n",
      "Bhavik is learning data science\n",
      "Bhavik is learning data science\n",
      "Bhavik is learning data science\n",
      "Bhavik is learning data science\n",
      "Bhavik is learning data science\n",
      "Bhavik is learning data science\n",
      "Bhavik is learning data science\n",
      "Bhavik is learning data science\n",
      "Bhavik is learning data science\n",
      "Bhavik is learning data science\n",
      "Bhavik is learning data science\n",
      "Bhavik is learning data science\n",
      "Bhavik is learning data science\n",
      "Bhavik is learning data science\n",
      "Bhavik is learning data science\n",
      "Bhavik is learning data science\n",
      "Bhavik is learning data science\n",
      "Bhavik is learning data science\n",
      "Bhavik is learning data science\n",
      "Bhavik is learning data science\n",
      "Bhavik is learning data science\n",
      "Bhavik is learning data science\n",
      "Bhavik is learning data science\n",
      "Bhavik is learning data science\n",
      "Bhavik is learning data science\n",
      "Bhavik is learning data science\n",
      "Bhavik is learning data science\n"
     ]
    }
   ],
   "source": [
    "#This function takes some time pose while running a function\n",
    "for i in range(30):\n",
    "    print('Bhavik is learning data science')\n",
    "    time.sleep(2)"
   ]
  },
  {
   "cell_type": "code",
   "execution_count": null,
   "id": "17f4309b",
   "metadata": {},
   "outputs": [],
   "source": [
    "    "
   ]
  }
 ],
 "metadata": {
  "kernelspec": {
   "display_name": "Python 3",
   "language": "python",
   "name": "python3"
  },
  "language_info": {
   "codemirror_mode": {
    "name": "ipython",
    "version": 3
   },
   "file_extension": ".py",
   "mimetype": "text/x-python",
   "name": "python",
   "nbconvert_exporter": "python",
   "pygments_lexer": "ipython3",
   "version": "3.9.5"
  },
  "toc": {
   "base_numbering": 1,
   "nav_menu": {},
   "number_sections": true,
   "sideBar": true,
   "skip_h1_title": false,
   "title_cell": "Table of Contents",
   "title_sidebar": "Contents",
   "toc_cell": false,
   "toc_position": {},
   "toc_section_display": true,
   "toc_window_display": false
  }
 },
 "nbformat": 4,
 "nbformat_minor": 5
}
