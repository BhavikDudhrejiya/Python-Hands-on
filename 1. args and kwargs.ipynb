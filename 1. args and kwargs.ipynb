{
 "cells": [
  {
   "cell_type": "markdown",
   "id": "25046638",
   "metadata": {},
   "source": [
    "# *args - Non-Keyword Arguments"
   ]
  },
  {
   "cell_type": "markdown",
   "id": "8546290c",
   "metadata": {},
   "source": [
    "- While creating any self define function, It is very hard to manage parameters when parameters are more hence *args will help us to manage n numbers of parameters\n",
    "- (*) Star is a wild card or natation when we have doubts about the number of  arguments we should pass in a function."
   ]
  },
  {
   "cell_type": "code",
   "execution_count": 1,
   "id": "464bcc9a",
   "metadata": {},
   "outputs": [
    {
     "name": "stdout",
     "output_type": "stream",
     "text": [
      "Bhavik Rohan Ajay Vicky Hritik\n"
     ]
    }
   ],
   "source": [
    "def students_name(a,b,c,d,e):\n",
    "    print(a,b,c,d,e)\n",
    "    \n",
    "students_name('Bhavik', 'Rohan', 'Ajay', 'Vicky', 'Hritik')"
   ]
  },
  {
   "cell_type": "code",
   "execution_count": 5,
   "id": "b20a55b3",
   "metadata": {},
   "outputs": [
    {
     "name": "stdout",
     "output_type": "stream",
     "text": [
      "('Bhavik', 'Rohan', 'Ajay', 'Vicky', 'Hritik', 'Akshay')\n",
      "<class 'tuple'>\n"
     ]
    }
   ],
   "source": [
    "def students_arg(*args):\n",
    "    print(args)\n",
    "    print(type(args))\n",
    "    \n",
    "students_arg('Bhavik', 'Rohan', 'Ajay', 'Vicky', 'Hritik', 'Akshay')"
   ]
  },
  {
   "cell_type": "code",
   "execution_count": 6,
   "id": "123706be",
   "metadata": {},
   "outputs": [
    {
     "name": "stdout",
     "output_type": "stream",
     "text": [
      "Bhavik\n",
      "Rohan\n",
      "Ajay\n",
      "Vicky\n",
      "Hritik\n",
      "Akshay\n"
     ]
    }
   ],
   "source": [
    "def students_arg(*args):\n",
    "    for i in args:\n",
    "        print(i)\n",
    "        \n",
    "students_arg('Bhavik', 'Rohan', 'Ajay', 'Vicky', 'Hritik', 'Akshay')"
   ]
  },
  {
   "cell_type": "code",
   "execution_count": 8,
   "id": "5bc9621a",
   "metadata": {},
   "outputs": [
    {
     "name": "stdout",
     "output_type": "stream",
     "text": [
      "Data Science Team:\n",
      "Rohan\n",
      "Ajay\n",
      "Vicky\n",
      "Hritik\n",
      "Akshay\n"
     ]
    }
   ],
   "source": [
    "def students_arg(group_name,*args):\n",
    "    print('Data Science Team:')\n",
    "    for i in args:\n",
    "        print(i)\n",
    "        \n",
    "students_arg('Bhavik', 'Rohan', 'Ajay', 'Vicky', 'Hritik', 'Akshay')"
   ]
  },
  {
   "cell_type": "markdown",
   "id": "2f067dc4",
   "metadata": {},
   "source": [
    "# **kwargs - Keyword Arguments"
   ]
  },
  {
   "cell_type": "markdown",
   "id": "0c5c2765",
   "metadata": {},
   "source": [
    "- It is used to pass a keyworded, variable-length argument list.\n",
    "- We use** with kwargs, The reason is because the double star allows us to pass through keyword arguments."
   ]
  },
  {
   "cell_type": "code",
   "execution_count": 26,
   "id": "509779fd",
   "metadata": {},
   "outputs": [
    {
     "name": "stdout",
     "output_type": "stream",
     "text": [
      "Name Bhavik\n",
      "Surname Dudhrejiya\n",
      "Age 35\n"
     ]
    }
   ],
   "source": [
    " def record(**kwargs):\n",
    "        for key, value in kwargs.items():\n",
    "            print(key, value)\n",
    "            \n",
    "dict = {'Name':'Bhavik','Surname':'Dudhrejiya','Age':35}\n",
    "    \n",
    "record(**dict)"
   ]
  },
  {
   "cell_type": "code",
   "execution_count": null,
   "id": "80aecc8a",
   "metadata": {},
   "outputs": [],
   "source": []
  }
 ],
 "metadata": {
  "kernelspec": {
   "display_name": "Python 3",
   "language": "python",
   "name": "python3"
  },
  "language_info": {
   "codemirror_mode": {
    "name": "ipython",
    "version": 3
   },
   "file_extension": ".py",
   "mimetype": "text/x-python",
   "name": "python",
   "nbconvert_exporter": "python",
   "pygments_lexer": "ipython3",
   "version": "3.9.5"
  },
  "toc": {
   "base_numbering": 1,
   "nav_menu": {},
   "number_sections": true,
   "sideBar": true,
   "skip_h1_title": false,
   "title_cell": "Table of Contents",
   "title_sidebar": "Contents",
   "toc_cell": false,
   "toc_position": {},
   "toc_section_display": true,
   "toc_window_display": false
  }
 },
 "nbformat": 4,
 "nbformat_minor": 5
}
