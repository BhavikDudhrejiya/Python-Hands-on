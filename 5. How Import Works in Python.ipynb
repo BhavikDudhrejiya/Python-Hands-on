{
 "cells": [
  {
   "cell_type": "markdown",
   "id": "3f234d70",
   "metadata": {},
   "source": [
    "# Checking version of the any package"
   ]
  },
  {
   "cell_type": "code",
   "execution_count": 4,
   "id": "52970047",
   "metadata": {},
   "outputs": [
    {
     "name": "stdout",
     "output_type": "stream",
     "text": [
      "1.2.4\n"
     ]
    }
   ],
   "source": [
    "\n",
    "import pandas\n",
    "print(pandas.__version__)"
   ]
  },
  {
   "cell_type": "markdown",
   "id": "420738da",
   "metadata": {},
   "source": [
    "# Path or location of the all the packages or modules"
   ]
  },
  {
   "cell_type": "code",
   "execution_count": 1,
   "id": "a20dcb19",
   "metadata": {},
   "outputs": [],
   "source": [
    "import sys"
   ]
  },
  {
   "cell_type": "code",
   "execution_count": 2,
   "id": "d462697a",
   "metadata": {},
   "outputs": [
    {
     "name": "stdout",
     "output_type": "stream",
     "text": [
      "['C:\\\\Users\\\\Bhavi\\\\1.Python Hands On', 'c:\\\\users\\\\bhavi\\\\python\\\\python39.zip', 'c:\\\\users\\\\bhavi\\\\python\\\\DLLs', 'c:\\\\users\\\\bhavi\\\\python\\\\lib', 'c:\\\\users\\\\bhavi\\\\python', '', 'c:\\\\users\\\\bhavi\\\\python\\\\lib\\\\site-packages', 'c:\\\\users\\\\bhavi\\\\python\\\\lib\\\\site-packages\\\\win32', 'c:\\\\users\\\\bhavi\\\\python\\\\lib\\\\site-packages\\\\win32\\\\lib', 'c:\\\\users\\\\bhavi\\\\python\\\\lib\\\\site-packages\\\\Pythonwin', 'c:\\\\users\\\\bhavi\\\\python\\\\lib\\\\site-packages\\\\IPython\\\\extensions', 'C:\\\\Users\\\\Bhavi\\\\.ipython']\n"
     ]
    }
   ],
   "source": [
    "print(sys.path)"
   ]
  },
  {
   "cell_type": "code",
   "execution_count": 7,
   "id": "12b3016a",
   "metadata": {},
   "outputs": [
    {
     "data": {
      "text/plain": [
       "25"
      ]
     },
     "execution_count": 7,
     "metadata": {},
     "output_type": "execute_result"
    }
   ],
   "source": [
    "import Addition\n",
    "\n",
    "Addition.addition(15,10)"
   ]
  },
  {
   "cell_type": "code",
   "execution_count": 8,
   "id": "0cb1fc6a",
   "metadata": {},
   "outputs": [
    {
     "data": {
      "text/plain": [
       "25"
      ]
     },
     "execution_count": 8,
     "metadata": {},
     "output_type": "execute_result"
    }
   ],
   "source": [
    "from Addition import addition\n",
    "\n",
    "addition(15,10)"
   ]
  }
 ],
 "metadata": {
  "kernelspec": {
   "display_name": "Python 3",
   "language": "python",
   "name": "python3"
  },
  "language_info": {
   "codemirror_mode": {
    "name": "ipython",
    "version": 3
   },
   "file_extension": ".py",
   "mimetype": "text/x-python",
   "name": "python",
   "nbconvert_exporter": "python",
   "pygments_lexer": "ipython3",
   "version": "3.9.5"
  },
  "toc": {
   "base_numbering": 1,
   "nav_menu": {},
   "number_sections": true,
   "sideBar": true,
   "skip_h1_title": false,
   "title_cell": "Table of Contents",
   "title_sidebar": "Contents",
   "toc_cell": false,
   "toc_position": {},
   "toc_section_display": true,
   "toc_window_display": false
  }
 },
 "nbformat": 4,
 "nbformat_minor": 5
}
